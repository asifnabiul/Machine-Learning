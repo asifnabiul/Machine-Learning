{
 "cells": [
  {
   "cell_type": "markdown",
   "metadata": {},
   "source": [
    "# House Price Prediction Problem from Kaggle "
   ]
  },
  {
   "cell_type": "markdown",
   "metadata": {},
   "source": [
    "### My workflow (according to Assignment Task):\n",
    "\n",
    "1. Training data set\n",
    "2. Deal with missing data\n",
    "3. Handling categorical data as stated in assignment\n",
    "4. Exploring data after categorize with attributes and correlation feature\n",
    "5. Tune some featues if my data need this\n",
    "6. Applying different 'Supervised Learning' models to obtain predictive outputs, algorrithms are: \n",
    "\n",
    "                * Simple Linear Regression with L1,L2 regularization\n",
    "                * Random Forest\n",
    "                * Decision Tree\n",
    "                * Gradient Boosting \n",
    "                \n",
    "7. I'll fine tune this algorithms and apply PCA & Decision Tree followed by each other for comparision and will discuss other given tasks. "
   ]
  },
  {
   "cell_type": "code",
   "execution_count": null,
   "metadata": {},
   "outputs": [],
   "source": []
  },
  {
   "cell_type": "markdown",
   "metadata": {},
   "source": [
    "## Importing libraries and train the dataset"
   ]
  },
  {
   "cell_type": "code",
   "execution_count": 51,
   "metadata": {
    "id": "Wizacb4_9uQf"
   },
   "outputs": [],
   "source": [
    "# importing necessary libraries\n",
    "\n",
    "import numpy as np\n",
    "import pandas as pd\n",
    "import matplotlib.pyplot as plt\n",
    "import seaborn as sns\n",
    "from scipy.stats import norm, skew\n",
    "pd.set_option('display.float_format', lambda x: '{:.3f}'.format(x))"
   ]
  },
  {
   "cell_type": "code",
   "execution_count": 52,
   "metadata": {
    "id": "KG2RCrk89459"
   },
   "outputs": [],
   "source": [
    "# train and test data from given dataset\n",
    "\n",
    "test = pd.read_csv(\"test.csv\")\n",
    "train = pd.read_csv(\"train.csv\")"
   ]
  },
  {
   "cell_type": "code",
   "execution_count": 53,
   "metadata": {
    "colab": {
     "base_uri": "https://localhost:8080/"
    },
    "id": "mrHmP5ad-R8I",
    "outputId": "924ff2cd-be0b-4149-aab9-6ab50c900e48"
   },
   "outputs": [
    {
     "data": {
      "text/plain": [
       "((1459, 80), (1460, 81))"
      ]
     },
     "execution_count": 53,
     "metadata": {},
     "output_type": "execute_result"
    }
   ],
   "source": [
    "test.shape,train.shape"
   ]
  },
  {
   "cell_type": "markdown",
   "metadata": {
    "id": "eoHnErrX-sO2"
   },
   "source": [
    "##### Finding data measurement"
   ]
  },
  {
   "cell_type": "code",
   "execution_count": 54,
   "metadata": {
    "colab": {
     "base_uri": "https://localhost:8080/"
    },
    "id": "Giy0TdMw-teW",
    "outputId": "e23b05b6-9f88-4a39-dc51-5ab36ec22c3f"
   },
   "outputs": [
    {
     "name": "stdout",
     "output_type": "stream",
     "text": [
      "train_test_data size is : (2919, 80)\n"
     ]
    }
   ],
   "source": [
    "# finding size of the performing data\n",
    "\n",
    "ntrain = train.shape[0]\n",
    "ntest = test.shape[0]\n",
    "y_train = train.SalePrice.values\n",
    "train_test_data = pd.concat((train, test)).reset_index(drop=True)\n",
    "train_test_data.drop(['SalePrice'], axis=1, inplace=True)\n",
    "print(\"train_test_data size is : {}\".format(train_test_data.shape))"
   ]
  },
  {
   "cell_type": "markdown",
   "metadata": {
    "id": "6WZ8DsbFP8m9"
   },
   "source": [
    "# Missing Data Handling"
   ]
  },
  {
   "cell_type": "code",
   "execution_count": 55,
   "metadata": {
    "colab": {
     "base_uri": "https://localhost:8080/"
    },
    "id": "EAgdUFNwQMk6",
    "outputId": "5ef158a6-9951-4772-d2f7-8ac4dbcdfcc4"
   },
   "outputs": [
    {
     "name": "stdout",
     "output_type": "stream",
     "text": [
      "<class 'pandas.core.frame.DataFrame'>\n",
      "RangeIndex: 2919 entries, 0 to 2918\n",
      "Data columns (total 80 columns):\n",
      " #   Column         Non-Null Count  Dtype  \n",
      "---  ------         --------------  -----  \n",
      " 0   Id             2919 non-null   int64  \n",
      " 1   MSSubClass     2919 non-null   int64  \n",
      " 2   MSZoning       2915 non-null   object \n",
      " 3   LotFrontage    2433 non-null   float64\n",
      " 4   LotArea        2919 non-null   int64  \n",
      " 5   Street         2919 non-null   object \n",
      " 6   Alley          198 non-null    object \n",
      " 7   LotShape       2919 non-null   object \n",
      " 8   LandContour    2919 non-null   object \n",
      " 9   Utilities      2917 non-null   object \n",
      " 10  LotConfig      2919 non-null   object \n",
      " 11  LandSlope      2919 non-null   object \n",
      " 12  Neighborhood   2919 non-null   object \n",
      " 13  Condition1     2919 non-null   object \n",
      " 14  Condition2     2919 non-null   object \n",
      " 15  BldgType       2919 non-null   object \n",
      " 16  HouseStyle     2919 non-null   object \n",
      " 17  OverallQual    2919 non-null   int64  \n",
      " 18  OverallCond    2919 non-null   int64  \n",
      " 19  YearBuilt      2919 non-null   int64  \n",
      " 20  YearRemodAdd   2919 non-null   int64  \n",
      " 21  RoofStyle      2919 non-null   object \n",
      " 22  RoofMatl       2919 non-null   object \n",
      " 23  Exterior1st    2918 non-null   object \n",
      " 24  Exterior2nd    2918 non-null   object \n",
      " 25  MasVnrType     2895 non-null   object \n",
      " 26  MasVnrArea     2896 non-null   float64\n",
      " 27  ExterQual      2919 non-null   object \n",
      " 28  ExterCond      2919 non-null   object \n",
      " 29  Foundation     2919 non-null   object \n",
      " 30  BsmtQual       2838 non-null   object \n",
      " 31  BsmtCond       2837 non-null   object \n",
      " 32  BsmtExposure   2837 non-null   object \n",
      " 33  BsmtFinType1   2840 non-null   object \n",
      " 34  BsmtFinSF1     2918 non-null   float64\n",
      " 35  BsmtFinType2   2839 non-null   object \n",
      " 36  BsmtFinSF2     2918 non-null   float64\n",
      " 37  BsmtUnfSF      2918 non-null   float64\n",
      " 38  TotalBsmtSF    2918 non-null   float64\n",
      " 39  Heating        2919 non-null   object \n",
      " 40  HeatingQC      2919 non-null   object \n",
      " 41  CentralAir     2919 non-null   object \n",
      " 42  Electrical     2918 non-null   object \n",
      " 43  1stFlrSF       2919 non-null   int64  \n",
      " 44  2ndFlrSF       2919 non-null   int64  \n",
      " 45  LowQualFinSF   2919 non-null   int64  \n",
      " 46  GrLivArea      2919 non-null   int64  \n",
      " 47  BsmtFullBath   2917 non-null   float64\n",
      " 48  BsmtHalfBath   2917 non-null   float64\n",
      " 49  FullBath       2919 non-null   int64  \n",
      " 50  HalfBath       2919 non-null   int64  \n",
      " 51  BedroomAbvGr   2919 non-null   int64  \n",
      " 52  KitchenAbvGr   2919 non-null   int64  \n",
      " 53  KitchenQual    2918 non-null   object \n",
      " 54  TotRmsAbvGrd   2919 non-null   int64  \n",
      " 55  Functional     2917 non-null   object \n",
      " 56  Fireplaces     2919 non-null   int64  \n",
      " 57  FireplaceQu    1499 non-null   object \n",
      " 58  GarageType     2762 non-null   object \n",
      " 59  GarageYrBlt    2760 non-null   float64\n",
      " 60  GarageFinish   2760 non-null   object \n",
      " 61  GarageCars     2918 non-null   float64\n",
      " 62  GarageArea     2918 non-null   float64\n",
      " 63  GarageQual     2760 non-null   object \n",
      " 64  GarageCond     2760 non-null   object \n",
      " 65  PavedDrive     2919 non-null   object \n",
      " 66  WoodDeckSF     2919 non-null   int64  \n",
      " 67  OpenPorchSF    2919 non-null   int64  \n",
      " 68  EnclosedPorch  2919 non-null   int64  \n",
      " 69  3SsnPorch      2919 non-null   int64  \n",
      " 70  ScreenPorch    2919 non-null   int64  \n",
      " 71  PoolArea       2919 non-null   int64  \n",
      " 72  PoolQC         10 non-null     object \n",
      " 73  Fence          571 non-null    object \n",
      " 74  MiscFeature    105 non-null    object \n",
      " 75  MiscVal        2919 non-null   int64  \n",
      " 76  MoSold         2919 non-null   int64  \n",
      " 77  YrSold         2919 non-null   int64  \n",
      " 78  SaleType       2918 non-null   object \n",
      " 79  SaleCondition  2919 non-null   object \n",
      "dtypes: float64(11), int64(26), object(43)\n",
      "memory usage: 1.8+ MB\n"
     ]
    }
   ],
   "source": [
    "# visualizing the presence of data\n",
    "\n",
    "train_test_data.info()\n"
   ]
  },
  {
   "cell_type": "code",
   "execution_count": 56,
   "metadata": {
    "colab": {
     "base_uri": "https://localhost:8080/"
    },
    "id": "o6Nvc2OmREOP",
    "outputId": "f11718a9-42e1-4446-ac36-8550799c2a1c"
   },
   "outputs": [
    {
     "data": {
      "text/plain": [
       "Id                 0\n",
       "MSSubClass         0\n",
       "MSZoning           4\n",
       "LotFrontage      486\n",
       "LotArea            0\n",
       "                ... \n",
       "MiscVal            0\n",
       "MoSold             0\n",
       "YrSold             0\n",
       "SaleType           1\n",
       "SaleCondition      0\n",
       "Length: 80, dtype: int64"
      ]
     },
     "execution_count": 56,
     "metadata": {},
     "output_type": "execute_result"
    }
   ],
   "source": [
    "train_test_data.isnull().sum()"
   ]
  },
  {
   "cell_type": "code",
   "execution_count": 57,
   "metadata": {
    "colab": {
     "base_uri": "https://localhost:8080/"
    },
    "id": "wBkAZEkTRTsr",
    "outputId": "f56bccf6-f27c-4402-ad18-ab0c09690e6e"
   },
   "outputs": [
    {
     "data": {
      "text/plain": [
       "(34, 1)"
      ]
     },
     "execution_count": 57,
     "metadata": {},
     "output_type": "execute_result"
    }
   ],
   "source": [
    "# range of missing data\n",
    "\n",
    "train_test_data_na= (train_test_data.isnull().sum() / len(train_test_data)) * 100\n",
    "train_test_data_na = train_test_data_na.drop(train_test_data_na[train_test_data_na == 0].index)\n",
    "missing_data = pd.DataFrame({'Missing Percentage' :train_test_data_na})\n",
    "missing_data.shape"
   ]
  },
  {
   "cell_type": "code",
   "execution_count": 58,
   "metadata": {
    "colab": {
     "base_uri": "https://localhost:8080/",
     "height": 1000
    },
    "id": "2WRxN8sjRzty",
    "outputId": "c6d2d3ff-3978-432b-8f05-c010f70ac2dc"
   },
   "outputs": [
    {
     "data": {
      "text/html": [
       "<div>\n",
       "<style scoped>\n",
       "    .dataframe tbody tr th:only-of-type {\n",
       "        vertical-align: middle;\n",
       "    }\n",
       "\n",
       "    .dataframe tbody tr th {\n",
       "        vertical-align: top;\n",
       "    }\n",
       "\n",
       "    .dataframe thead th {\n",
       "        text-align: right;\n",
       "    }\n",
       "</style>\n",
       "<table border=\"1\" class=\"dataframe\">\n",
       "  <thead>\n",
       "    <tr style=\"text-align: right;\">\n",
       "      <th></th>\n",
       "      <th>Missing Percentage</th>\n",
       "    </tr>\n",
       "  </thead>\n",
       "  <tbody>\n",
       "    <tr>\n",
       "      <th>MSZoning</th>\n",
       "      <td>0.137</td>\n",
       "    </tr>\n",
       "    <tr>\n",
       "      <th>LotFrontage</th>\n",
       "      <td>16.650</td>\n",
       "    </tr>\n",
       "    <tr>\n",
       "      <th>Alley</th>\n",
       "      <td>93.217</td>\n",
       "    </tr>\n",
       "    <tr>\n",
       "      <th>Utilities</th>\n",
       "      <td>0.069</td>\n",
       "    </tr>\n",
       "    <tr>\n",
       "      <th>Exterior1st</th>\n",
       "      <td>0.034</td>\n",
       "    </tr>\n",
       "    <tr>\n",
       "      <th>Exterior2nd</th>\n",
       "      <td>0.034</td>\n",
       "    </tr>\n",
       "    <tr>\n",
       "      <th>MasVnrType</th>\n",
       "      <td>0.822</td>\n",
       "    </tr>\n",
       "    <tr>\n",
       "      <th>MasVnrArea</th>\n",
       "      <td>0.788</td>\n",
       "    </tr>\n",
       "    <tr>\n",
       "      <th>BsmtQual</th>\n",
       "      <td>2.775</td>\n",
       "    </tr>\n",
       "    <tr>\n",
       "      <th>BsmtCond</th>\n",
       "      <td>2.809</td>\n",
       "    </tr>\n",
       "    <tr>\n",
       "      <th>BsmtExposure</th>\n",
       "      <td>2.809</td>\n",
       "    </tr>\n",
       "    <tr>\n",
       "      <th>BsmtFinType1</th>\n",
       "      <td>2.706</td>\n",
       "    </tr>\n",
       "    <tr>\n",
       "      <th>BsmtFinSF1</th>\n",
       "      <td>0.034</td>\n",
       "    </tr>\n",
       "    <tr>\n",
       "      <th>BsmtFinType2</th>\n",
       "      <td>2.741</td>\n",
       "    </tr>\n",
       "    <tr>\n",
       "      <th>BsmtFinSF2</th>\n",
       "      <td>0.034</td>\n",
       "    </tr>\n",
       "    <tr>\n",
       "      <th>BsmtUnfSF</th>\n",
       "      <td>0.034</td>\n",
       "    </tr>\n",
       "    <tr>\n",
       "      <th>TotalBsmtSF</th>\n",
       "      <td>0.034</td>\n",
       "    </tr>\n",
       "    <tr>\n",
       "      <th>Electrical</th>\n",
       "      <td>0.034</td>\n",
       "    </tr>\n",
       "    <tr>\n",
       "      <th>BsmtFullBath</th>\n",
       "      <td>0.069</td>\n",
       "    </tr>\n",
       "    <tr>\n",
       "      <th>BsmtHalfBath</th>\n",
       "      <td>0.069</td>\n",
       "    </tr>\n",
       "    <tr>\n",
       "      <th>KitchenQual</th>\n",
       "      <td>0.034</td>\n",
       "    </tr>\n",
       "    <tr>\n",
       "      <th>Functional</th>\n",
       "      <td>0.069</td>\n",
       "    </tr>\n",
       "    <tr>\n",
       "      <th>FireplaceQu</th>\n",
       "      <td>48.647</td>\n",
       "    </tr>\n",
       "    <tr>\n",
       "      <th>GarageType</th>\n",
       "      <td>5.379</td>\n",
       "    </tr>\n",
       "    <tr>\n",
       "      <th>GarageYrBlt</th>\n",
       "      <td>5.447</td>\n",
       "    </tr>\n",
       "    <tr>\n",
       "      <th>GarageFinish</th>\n",
       "      <td>5.447</td>\n",
       "    </tr>\n",
       "    <tr>\n",
       "      <th>GarageCars</th>\n",
       "      <td>0.034</td>\n",
       "    </tr>\n",
       "    <tr>\n",
       "      <th>GarageArea</th>\n",
       "      <td>0.034</td>\n",
       "    </tr>\n",
       "    <tr>\n",
       "      <th>GarageQual</th>\n",
       "      <td>5.447</td>\n",
       "    </tr>\n",
       "    <tr>\n",
       "      <th>GarageCond</th>\n",
       "      <td>5.447</td>\n",
       "    </tr>\n",
       "    <tr>\n",
       "      <th>PoolQC</th>\n",
       "      <td>99.657</td>\n",
       "    </tr>\n",
       "    <tr>\n",
       "      <th>Fence</th>\n",
       "      <td>80.439</td>\n",
       "    </tr>\n",
       "    <tr>\n",
       "      <th>MiscFeature</th>\n",
       "      <td>96.403</td>\n",
       "    </tr>\n",
       "    <tr>\n",
       "      <th>SaleType</th>\n",
       "      <td>0.034</td>\n",
       "    </tr>\n",
       "  </tbody>\n",
       "</table>\n",
       "</div>"
      ],
      "text/plain": [
       "              Missing Percentage\n",
       "MSZoning                   0.137\n",
       "LotFrontage               16.650\n",
       "Alley                     93.217\n",
       "Utilities                  0.069\n",
       "Exterior1st                0.034\n",
       "Exterior2nd                0.034\n",
       "MasVnrType                 0.822\n",
       "MasVnrArea                 0.788\n",
       "BsmtQual                   2.775\n",
       "BsmtCond                   2.809\n",
       "BsmtExposure               2.809\n",
       "BsmtFinType1               2.706\n",
       "BsmtFinSF1                 0.034\n",
       "BsmtFinType2               2.741\n",
       "BsmtFinSF2                 0.034\n",
       "BsmtUnfSF                  0.034\n",
       "TotalBsmtSF                0.034\n",
       "Electrical                 0.034\n",
       "BsmtFullBath               0.069\n",
       "BsmtHalfBath               0.069\n",
       "KitchenQual                0.034\n",
       "Functional                 0.069\n",
       "FireplaceQu               48.647\n",
       "GarageType                 5.379\n",
       "GarageYrBlt                5.447\n",
       "GarageFinish               5.447\n",
       "GarageCars                 0.034\n",
       "GarageArea                 0.034\n",
       "GarageQual                 5.447\n",
       "GarageCond                 5.447\n",
       "PoolQC                    99.657\n",
       "Fence                     80.439\n",
       "MiscFeature               96.403\n",
       "SaleType                   0.034"
      ]
     },
     "execution_count": 58,
     "metadata": {},
     "output_type": "execute_result"
    }
   ],
   "source": [
    "missing_data.head(34)"
   ]
  },
  {
   "cell_type": "markdown",
   "metadata": {
    "id": "-x4w451KVjjn"
   },
   "source": [
    "### Here, dropping Ferature having more than 50% missing data\n"
   ]
  },
  {
   "cell_type": "code",
   "execution_count": 59,
   "metadata": {
    "id": "Obf1HMOVV5Pp"
   },
   "outputs": [],
   "source": [
    "# performing drop operation and finding rests\n",
    "\n",
    "train_test_data_new = train_test_data.drop(columns=['Id', 'Alley', 'PoolQC', 'Fence', 'MiscFeature'] , axis=1)"
   ]
  },
  {
   "cell_type": "code",
   "execution_count": 60,
   "metadata": {
    "colab": {
     "base_uri": "https://localhost:8080/"
    },
    "id": "vzSCqg9-Yht_",
    "outputId": "8488584d-0004-4890-a3a8-58e36bd78690"
   },
   "outputs": [
    {
     "data": {
      "text/plain": [
       "(2919, 75)"
      ]
     },
     "execution_count": 60,
     "metadata": {},
     "output_type": "execute_result"
    }
   ],
   "source": [
    "train_test_data_new.shape"
   ]
  },
  {
   "cell_type": "code",
   "execution_count": 61,
   "metadata": {
    "id": "_y_9qS8fZwPf"
   },
   "outputs": [],
   "source": [
    "train_test_data_new['MSZoning'] = train_test_data_new['MSZoning'].fillna(train_test_data_new['MSZoning'].mode()[0])\n",
    "train_test_data_new['LotFrontage'] = train_test_data_new['LotFrontage'].fillna(train_test_data_new['LotFrontage'].mean())\n",
    "train_test_data_new['Utilities'] = train_test_data_new['Utilities'].fillna(train_test_data_new['Utilities'].mode()[0])\n",
    "train_test_data_new['Exterior1st'] = train_test_data_new['Exterior1st'].fillna(train_test_data_new['Exterior1st'].mode()[0])\n",
    "train_test_data_new['Exterior2nd'] = train_test_data_new['Exterior2nd'].fillna(train_test_data_new['Exterior2nd'].mode()[0])\n",
    "train_test_data_new['MasVnrType'] = train_test_data_new['MasVnrType'].fillna(train_test_data_new['MasVnrType'].mode()[0])\n",
    "train_test_data_new['MasVnrArea'] = train_test_data_new['MasVnrArea'].fillna(train_test_data_new['MasVnrArea'].mean())\n",
    "train_test_data_new['BsmtQual'] = train_test_data_new['BsmtQual'].fillna(train_test_data_new['BsmtQual'].mode()[0])\n",
    "train_test_data_new['BsmtCond'] = train_test_data_new['BsmtCond'].fillna(train_test_data_new['BsmtCond'].mode()[0])\n",
    "train_test_data_new['BsmtExposure'] = train_test_data_new['BsmtExposure'].fillna(train_test_data_new['BsmtExposure'].mode()[0])\n",
    "train_test_data_new['BsmtFinType1'] = train_test_data_new['BsmtFinType1'].fillna(train_test_data_new['BsmtFinType1'].mode()[0])\n",
    "train_test_data_new['BsmtFinSF1'] = train_test_data_new['BsmtFinSF1'].fillna(train_test_data_new['BsmtFinSF1'].mean())\n",
    "train_test_data_new['BsmtFinType2'] = train_test_data_new['BsmtFinType2'].fillna(train_test_data_new['BsmtFinType2'].mode()[0])\n",
    "train_test_data_new['BsmtFinSF2'] = train_test_data_new['BsmtFinSF2'].fillna(train_test_data_new['BsmtFinSF2'].mean())\n",
    "train_test_data_new['BsmtUnfSF'] = train_test_data_new['BsmtUnfSF'].fillna(train_test_data_new['BsmtUnfSF'].mean())\n",
    "train_test_data_new['TotalBsmtSF'] = train_test_data_new['TotalBsmtSF'].fillna(train_test_data_new['TotalBsmtSF'].mean())\n",
    "train_test_data_new['Electrical'] = train_test_data_new['Electrical'].fillna(train_test_data_new['Electrical'].mode()[0])\n",
    "train_test_data_new['BsmtFullBath'] = train_test_data_new['BsmtFullBath'].fillna(train_test_data_new['BsmtFullBath'].mode()[0])\n",
    "train_test_data_new['BsmtHalfBath'] = train_test_data_new['BsmtHalfBath'].fillna(train_test_data_new['BsmtHalfBath'].mode()[0])\n",
    "train_test_data_new['KitchenQual'] = train_test_data_new['KitchenQual'].fillna(train_test_data_new['KitchenQual'].mode()[0])\n",
    "train_test_data_new['Functional'] = train_test_data_new['Functional'].fillna(train_test_data_new['Functional'].mode()[0])\n",
    "train_test_data_new['FireplaceQu'] = train_test_data_new['FireplaceQu'].fillna(train_test_data_new['FireplaceQu'].mode()[0])\n",
    "train_test_data_new['GarageType'] = train_test_data_new['GarageType'].fillna(train_test_data_new['GarageType'].mode()[0])\n",
    "train_test_data_new['GarageYrBlt'] = train_test_data_new['GarageYrBlt'].fillna(train_test_data_new['GarageYrBlt'].mean())\n",
    "train_test_data_new['GarageFinish'] = train_test_data_new['GarageFinish'].fillna(train_test_data_new['GarageFinish'].mode()[0])\n",
    "train_test_data_new['GarageCars'] = train_test_data_new['GarageCars'].fillna(train_test_data_new['GarageCars'].mean())\n",
    "train_test_data_new['GarageArea'] = train_test_data_new['GarageArea'].fillna(train_test_data_new['GarageArea'].mean())\n",
    "train_test_data_new['GarageQual'] = train_test_data_new['GarageQual'].fillna(train_test_data_new['GarageQual'].mode()[0])\n",
    "train_test_data_new['GarageCond'] = train_test_data_new['GarageCond'].fillna(train_test_data_new['GarageCond'].mode()[0])\n",
    "train_test_data_new['SaleType'] = train_test_data_new['SaleType'].fillna(train_test_data_new['SaleType'].mode()[0])"
   ]
  },
  {
   "cell_type": "markdown",
   "metadata": {
    "id": "ys96pQSvaJbo"
   },
   "source": [
    "# Handling Categorical Data"
   ]
  },
  {
   "cell_type": "code",
   "execution_count": 62,
   "metadata": {
    "id": "w227C75taank"
   },
   "outputs": [],
   "source": [
    "columns=['MSZoning','Street','LotShape','LandContour','Utilities','LotConfig','LandSlope','Neighborhood',\n",
    "         'Condition2','BldgType','Condition1','HouseStyle','SaleType',\n",
    "        'SaleCondition','ExterCond',\n",
    "         'ExterQual','Foundation','BsmtQual','BsmtCond','BsmtExposure','BsmtFinType1','BsmtFinType2',\n",
    "        'RoofStyle','RoofMatl','Exterior1st','Exterior2nd','MasVnrType','Heating','HeatingQC',\n",
    "         'CentralAir',\n",
    "         'Electrical','KitchenQual','Functional',\n",
    "         'FireplaceQu','GarageType','GarageFinish','GarageQual','GarageCond','PavedDrive']"
   ]
  },
  {
   "cell_type": "code",
   "execution_count": 63,
   "metadata": {
    "colab": {
     "base_uri": "https://localhost:8080/"
    },
    "id": "3iMPr0s4acKc",
    "outputId": "2e4f3cb6-9b93-4c8b-e5b2-131d9f9683b6"
   },
   "outputs": [
    {
     "name": "stdout",
     "output_type": "stream",
     "text": [
      "39\n"
     ]
    }
   ],
   "source": [
    "print(len(columns))"
   ]
  },
  {
   "cell_type": "code",
   "execution_count": 64,
   "metadata": {
    "id": "Uc5FIxORah-r"
   },
   "outputs": [],
   "source": [
    "# operation on categorical data\n",
    "\n",
    "def category_onehot_multcols(multcolumns):\n",
    "    df_final=train_test_data_new\n",
    "    i=0\n",
    "    for fields in multcolumns:\n",
    "        \n",
    "        print(fields)\n",
    "        df1=pd.get_dummies(train_test_data_new[fields],drop_first=True)\n",
    "        \n",
    "        train_test_data_new.drop([fields],axis=1,inplace=True)\n",
    "        if i==0:\n",
    "            df_final=df1.copy()\n",
    "        else:\n",
    "            \n",
    "            df_final=pd.concat([df_final,df1],axis=1)\n",
    "        i=i+1\n",
    "       \n",
    "        \n",
    "    df_final=pd.concat([train_test_data_new,df_final],axis=1)\n",
    "        \n",
    "    return df_final"
   ]
  },
  {
   "cell_type": "code",
   "execution_count": 65,
   "metadata": {
    "colab": {
     "base_uri": "https://localhost:8080/"
    },
    "id": "Xn-xGxJ2a9Uu",
    "outputId": "b036097c-3c91-4846-8198-ab6c41f5cd82"
   },
   "outputs": [
    {
     "name": "stdout",
     "output_type": "stream",
     "text": [
      "MSZoning\n",
      "Street\n",
      "LotShape\n",
      "LandContour\n",
      "Utilities\n",
      "LotConfig\n",
      "LandSlope\n",
      "Neighborhood\n",
      "Condition2\n",
      "BldgType\n",
      "Condition1\n",
      "HouseStyle\n",
      "SaleType\n",
      "SaleCondition\n",
      "ExterCond\n",
      "ExterQual\n",
      "Foundation\n",
      "BsmtQual\n",
      "BsmtCond\n",
      "BsmtExposure\n",
      "BsmtFinType1\n",
      "BsmtFinType2\n",
      "RoofStyle\n",
      "RoofMatl\n",
      "Exterior1st\n",
      "Exterior2nd\n",
      "MasVnrType\n",
      "Heating\n",
      "HeatingQC\n",
      "CentralAir\n",
      "Electrical\n",
      "KitchenQual\n",
      "Functional\n",
      "FireplaceQu\n",
      "GarageType\n",
      "GarageFinish\n",
      "GarageQual\n",
      "GarageCond\n",
      "PavedDrive\n"
     ]
    }
   ],
   "source": [
    "train_test_data_final= category_onehot_multcols(columns)"
   ]
  },
  {
   "cell_type": "code",
   "execution_count": 66,
   "metadata": {
    "colab": {
     "base_uri": "https://localhost:8080/"
    },
    "id": "dayuq3OdhASd",
    "outputId": "76d017e4-58ba-4851-b766-681490987547"
   },
   "outputs": [
    {
     "data": {
      "text/plain": [
       "(2919, 236)"
      ]
     },
     "execution_count": 66,
     "metadata": {},
     "output_type": "execute_result"
    }
   ],
   "source": [
    "train_test_data_final.shape"
   ]
  },
  {
   "cell_type": "code",
   "execution_count": 67,
   "metadata": {
    "id": "IjZUJ3udhLVl"
   },
   "outputs": [],
   "source": [
    "train_test_data_final =train_test_data_final.loc[:,~train_test_data_final.columns.duplicated()]"
   ]
  },
  {
   "cell_type": "code",
   "execution_count": 68,
   "metadata": {
    "colab": {
     "base_uri": "https://localhost:8080/"
    },
    "id": "xfv-Qfqthcab",
    "outputId": "d6db29af-d655-42b5-a5ee-b4836ab5f76c"
   },
   "outputs": [
    {
     "data": {
      "text/plain": [
       "(2919, 176)"
      ]
     },
     "execution_count": 68,
     "metadata": {},
     "output_type": "execute_result"
    }
   ],
   "source": [
    "train_test_data_final.shape"
   ]
  },
  {
   "cell_type": "code",
   "execution_count": 69,
   "metadata": {
    "colab": {
     "base_uri": "https://localhost:8080/",
     "height": 456
    },
    "id": "AZvNTQa1heAw",
    "outputId": "af29e6b3-23c5-47dd-bd49-98959e82fc99"
   },
   "outputs": [
    {
     "data": {
      "text/html": [
       "<div>\n",
       "<style scoped>\n",
       "    .dataframe tbody tr th:only-of-type {\n",
       "        vertical-align: middle;\n",
       "    }\n",
       "\n",
       "    .dataframe tbody tr th {\n",
       "        vertical-align: top;\n",
       "    }\n",
       "\n",
       "    .dataframe thead th {\n",
       "        text-align: right;\n",
       "    }\n",
       "</style>\n",
       "<table border=\"1\" class=\"dataframe\">\n",
       "  <thead>\n",
       "    <tr style=\"text-align: right;\">\n",
       "      <th></th>\n",
       "      <th>MSSubClass</th>\n",
       "      <th>LotFrontage</th>\n",
       "      <th>LotArea</th>\n",
       "      <th>OverallQual</th>\n",
       "      <th>OverallCond</th>\n",
       "      <th>YearBuilt</th>\n",
       "      <th>YearRemodAdd</th>\n",
       "      <th>MasVnrArea</th>\n",
       "      <th>BsmtFinSF1</th>\n",
       "      <th>BsmtFinSF2</th>\n",
       "      <th>...</th>\n",
       "      <th>Min1</th>\n",
       "      <th>Min2</th>\n",
       "      <th>Typ</th>\n",
       "      <th>Attchd</th>\n",
       "      <th>Basment</th>\n",
       "      <th>BuiltIn</th>\n",
       "      <th>CarPort</th>\n",
       "      <th>Detchd</th>\n",
       "      <th>RFn</th>\n",
       "      <th>P</th>\n",
       "    </tr>\n",
       "  </thead>\n",
       "  <tbody>\n",
       "    <tr>\n",
       "      <th>0</th>\n",
       "      <td>60</td>\n",
       "      <td>65.000</td>\n",
       "      <td>8450</td>\n",
       "      <td>7</td>\n",
       "      <td>5</td>\n",
       "      <td>2003</td>\n",
       "      <td>2003</td>\n",
       "      <td>196.000</td>\n",
       "      <td>706.000</td>\n",
       "      <td>0.000</td>\n",
       "      <td>...</td>\n",
       "      <td>0</td>\n",
       "      <td>0</td>\n",
       "      <td>1</td>\n",
       "      <td>1</td>\n",
       "      <td>0</td>\n",
       "      <td>0</td>\n",
       "      <td>0</td>\n",
       "      <td>0</td>\n",
       "      <td>1</td>\n",
       "      <td>0</td>\n",
       "    </tr>\n",
       "    <tr>\n",
       "      <th>1</th>\n",
       "      <td>20</td>\n",
       "      <td>80.000</td>\n",
       "      <td>9600</td>\n",
       "      <td>6</td>\n",
       "      <td>8</td>\n",
       "      <td>1976</td>\n",
       "      <td>1976</td>\n",
       "      <td>0.000</td>\n",
       "      <td>978.000</td>\n",
       "      <td>0.000</td>\n",
       "      <td>...</td>\n",
       "      <td>0</td>\n",
       "      <td>0</td>\n",
       "      <td>1</td>\n",
       "      <td>1</td>\n",
       "      <td>0</td>\n",
       "      <td>0</td>\n",
       "      <td>0</td>\n",
       "      <td>0</td>\n",
       "      <td>1</td>\n",
       "      <td>0</td>\n",
       "    </tr>\n",
       "    <tr>\n",
       "      <th>2</th>\n",
       "      <td>60</td>\n",
       "      <td>68.000</td>\n",
       "      <td>11250</td>\n",
       "      <td>7</td>\n",
       "      <td>5</td>\n",
       "      <td>2001</td>\n",
       "      <td>2002</td>\n",
       "      <td>162.000</td>\n",
       "      <td>486.000</td>\n",
       "      <td>0.000</td>\n",
       "      <td>...</td>\n",
       "      <td>0</td>\n",
       "      <td>0</td>\n",
       "      <td>1</td>\n",
       "      <td>1</td>\n",
       "      <td>0</td>\n",
       "      <td>0</td>\n",
       "      <td>0</td>\n",
       "      <td>0</td>\n",
       "      <td>1</td>\n",
       "      <td>0</td>\n",
       "    </tr>\n",
       "    <tr>\n",
       "      <th>3</th>\n",
       "      <td>70</td>\n",
       "      <td>60.000</td>\n",
       "      <td>9550</td>\n",
       "      <td>7</td>\n",
       "      <td>5</td>\n",
       "      <td>1915</td>\n",
       "      <td>1970</td>\n",
       "      <td>0.000</td>\n",
       "      <td>216.000</td>\n",
       "      <td>0.000</td>\n",
       "      <td>...</td>\n",
       "      <td>0</td>\n",
       "      <td>0</td>\n",
       "      <td>1</td>\n",
       "      <td>0</td>\n",
       "      <td>0</td>\n",
       "      <td>0</td>\n",
       "      <td>0</td>\n",
       "      <td>1</td>\n",
       "      <td>0</td>\n",
       "      <td>0</td>\n",
       "    </tr>\n",
       "    <tr>\n",
       "      <th>4</th>\n",
       "      <td>60</td>\n",
       "      <td>84.000</td>\n",
       "      <td>14260</td>\n",
       "      <td>8</td>\n",
       "      <td>5</td>\n",
       "      <td>2000</td>\n",
       "      <td>2000</td>\n",
       "      <td>350.000</td>\n",
       "      <td>655.000</td>\n",
       "      <td>0.000</td>\n",
       "      <td>...</td>\n",
       "      <td>0</td>\n",
       "      <td>0</td>\n",
       "      <td>1</td>\n",
       "      <td>1</td>\n",
       "      <td>0</td>\n",
       "      <td>0</td>\n",
       "      <td>0</td>\n",
       "      <td>0</td>\n",
       "      <td>1</td>\n",
       "      <td>0</td>\n",
       "    </tr>\n",
       "    <tr>\n",
       "      <th>...</th>\n",
       "      <td>...</td>\n",
       "      <td>...</td>\n",
       "      <td>...</td>\n",
       "      <td>...</td>\n",
       "      <td>...</td>\n",
       "      <td>...</td>\n",
       "      <td>...</td>\n",
       "      <td>...</td>\n",
       "      <td>...</td>\n",
       "      <td>...</td>\n",
       "      <td>...</td>\n",
       "      <td>...</td>\n",
       "      <td>...</td>\n",
       "      <td>...</td>\n",
       "      <td>...</td>\n",
       "      <td>...</td>\n",
       "      <td>...</td>\n",
       "      <td>...</td>\n",
       "      <td>...</td>\n",
       "      <td>...</td>\n",
       "      <td>...</td>\n",
       "    </tr>\n",
       "    <tr>\n",
       "      <th>2914</th>\n",
       "      <td>160</td>\n",
       "      <td>21.000</td>\n",
       "      <td>1936</td>\n",
       "      <td>4</td>\n",
       "      <td>7</td>\n",
       "      <td>1970</td>\n",
       "      <td>1970</td>\n",
       "      <td>0.000</td>\n",
       "      <td>0.000</td>\n",
       "      <td>0.000</td>\n",
       "      <td>...</td>\n",
       "      <td>0</td>\n",
       "      <td>0</td>\n",
       "      <td>1</td>\n",
       "      <td>1</td>\n",
       "      <td>0</td>\n",
       "      <td>0</td>\n",
       "      <td>0</td>\n",
       "      <td>0</td>\n",
       "      <td>0</td>\n",
       "      <td>0</td>\n",
       "    </tr>\n",
       "    <tr>\n",
       "      <th>2915</th>\n",
       "      <td>160</td>\n",
       "      <td>21.000</td>\n",
       "      <td>1894</td>\n",
       "      <td>4</td>\n",
       "      <td>5</td>\n",
       "      <td>1970</td>\n",
       "      <td>1970</td>\n",
       "      <td>0.000</td>\n",
       "      <td>252.000</td>\n",
       "      <td>0.000</td>\n",
       "      <td>...</td>\n",
       "      <td>0</td>\n",
       "      <td>0</td>\n",
       "      <td>1</td>\n",
       "      <td>0</td>\n",
       "      <td>0</td>\n",
       "      <td>0</td>\n",
       "      <td>1</td>\n",
       "      <td>0</td>\n",
       "      <td>0</td>\n",
       "      <td>0</td>\n",
       "    </tr>\n",
       "    <tr>\n",
       "      <th>2916</th>\n",
       "      <td>20</td>\n",
       "      <td>160.000</td>\n",
       "      <td>20000</td>\n",
       "      <td>5</td>\n",
       "      <td>7</td>\n",
       "      <td>1960</td>\n",
       "      <td>1996</td>\n",
       "      <td>0.000</td>\n",
       "      <td>1224.000</td>\n",
       "      <td>0.000</td>\n",
       "      <td>...</td>\n",
       "      <td>0</td>\n",
       "      <td>0</td>\n",
       "      <td>1</td>\n",
       "      <td>0</td>\n",
       "      <td>0</td>\n",
       "      <td>0</td>\n",
       "      <td>0</td>\n",
       "      <td>1</td>\n",
       "      <td>0</td>\n",
       "      <td>0</td>\n",
       "    </tr>\n",
       "    <tr>\n",
       "      <th>2917</th>\n",
       "      <td>85</td>\n",
       "      <td>62.000</td>\n",
       "      <td>10441</td>\n",
       "      <td>5</td>\n",
       "      <td>5</td>\n",
       "      <td>1992</td>\n",
       "      <td>1992</td>\n",
       "      <td>0.000</td>\n",
       "      <td>337.000</td>\n",
       "      <td>0.000</td>\n",
       "      <td>...</td>\n",
       "      <td>0</td>\n",
       "      <td>0</td>\n",
       "      <td>1</td>\n",
       "      <td>1</td>\n",
       "      <td>0</td>\n",
       "      <td>0</td>\n",
       "      <td>0</td>\n",
       "      <td>0</td>\n",
       "      <td>0</td>\n",
       "      <td>0</td>\n",
       "    </tr>\n",
       "    <tr>\n",
       "      <th>2918</th>\n",
       "      <td>60</td>\n",
       "      <td>74.000</td>\n",
       "      <td>9627</td>\n",
       "      <td>7</td>\n",
       "      <td>5</td>\n",
       "      <td>1993</td>\n",
       "      <td>1994</td>\n",
       "      <td>94.000</td>\n",
       "      <td>758.000</td>\n",
       "      <td>0.000</td>\n",
       "      <td>...</td>\n",
       "      <td>0</td>\n",
       "      <td>0</td>\n",
       "      <td>1</td>\n",
       "      <td>1</td>\n",
       "      <td>0</td>\n",
       "      <td>0</td>\n",
       "      <td>0</td>\n",
       "      <td>0</td>\n",
       "      <td>0</td>\n",
       "      <td>0</td>\n",
       "    </tr>\n",
       "  </tbody>\n",
       "</table>\n",
       "<p>2919 rows × 176 columns</p>\n",
       "</div>"
      ],
      "text/plain": [
       "      MSSubClass  LotFrontage  LotArea  OverallQual  OverallCond  YearBuilt  \\\n",
       "0             60       65.000     8450            7            5       2003   \n",
       "1             20       80.000     9600            6            8       1976   \n",
       "2             60       68.000    11250            7            5       2001   \n",
       "3             70       60.000     9550            7            5       1915   \n",
       "4             60       84.000    14260            8            5       2000   \n",
       "...          ...          ...      ...          ...          ...        ...   \n",
       "2914         160       21.000     1936            4            7       1970   \n",
       "2915         160       21.000     1894            4            5       1970   \n",
       "2916          20      160.000    20000            5            7       1960   \n",
       "2917          85       62.000    10441            5            5       1992   \n",
       "2918          60       74.000     9627            7            5       1993   \n",
       "\n",
       "      YearRemodAdd  MasVnrArea  BsmtFinSF1  BsmtFinSF2  ...  Min1  Min2  Typ  \\\n",
       "0             2003     196.000     706.000       0.000  ...     0     0    1   \n",
       "1             1976       0.000     978.000       0.000  ...     0     0    1   \n",
       "2             2002     162.000     486.000       0.000  ...     0     0    1   \n",
       "3             1970       0.000     216.000       0.000  ...     0     0    1   \n",
       "4             2000     350.000     655.000       0.000  ...     0     0    1   \n",
       "...            ...         ...         ...         ...  ...   ...   ...  ...   \n",
       "2914          1970       0.000       0.000       0.000  ...     0     0    1   \n",
       "2915          1970       0.000     252.000       0.000  ...     0     0    1   \n",
       "2916          1996       0.000    1224.000       0.000  ...     0     0    1   \n",
       "2917          1992       0.000     337.000       0.000  ...     0     0    1   \n",
       "2918          1994      94.000     758.000       0.000  ...     0     0    1   \n",
       "\n",
       "      Attchd  Basment  BuiltIn  CarPort  Detchd  RFn  P  \n",
       "0          1        0        0        0       0    1  0  \n",
       "1          1        0        0        0       0    1  0  \n",
       "2          1        0        0        0       0    1  0  \n",
       "3          0        0        0        0       1    0  0  \n",
       "4          1        0        0        0       0    1  0  \n",
       "...      ...      ...      ...      ...     ...  ... ..  \n",
       "2914       1        0        0        0       0    0  0  \n",
       "2915       0        0        0        1       0    0  0  \n",
       "2916       0        0        0        0       1    0  0  \n",
       "2917       1        0        0        0       0    0  0  \n",
       "2918       1        0        0        0       0    0  0  \n",
       "\n",
       "[2919 rows x 176 columns]"
      ]
     },
     "execution_count": 69,
     "metadata": {},
     "output_type": "execute_result"
    }
   ],
   "source": [
    "# finalize data set for performing prediction \n",
    "\n",
    "train_test_data_final"
   ]
  },
  {
   "cell_type": "markdown",
   "metadata": {
    "id": "DAXteG76D3N3"
   },
   "source": [
    "#### Finalizing reshaped data"
   ]
  },
  {
   "cell_type": "code",
   "execution_count": 70,
   "metadata": {
    "id": "lzRBokWvhjjc"
   },
   "outputs": [],
   "source": [
    "train,test = train_test_data_final[:ntrain],train_test_data_final[ntrain:]"
   ]
  },
  {
   "cell_type": "code",
   "execution_count": 71,
   "metadata": {
    "colab": {
     "base_uri": "https://localhost:8080/"
    },
    "id": "fH5nDhwuiScc",
    "outputId": "ae3d9bc9-67b6-4a81-fd15-6ddaeece3c09"
   },
   "outputs": [
    {
     "data": {
      "text/plain": [
       "((1460, 176), (1459, 176))"
      ]
     },
     "execution_count": 71,
     "metadata": {},
     "output_type": "execute_result"
    }
   ],
   "source": [
    "train.shape, test.shape"
   ]
  },
  {
   "cell_type": "markdown",
   "metadata": {
    "id": "VoUvq_z1izch"
   },
   "source": [
    "# Applying Supervised Learning Models for prediction"
   ]
  },
  {
   "cell_type": "markdown",
   "metadata": {
    "id": "j3keAJPxkaId"
   },
   "source": [
    "### Cross Validation\n"
   ]
  },
  {
   "cell_type": "code",
   "execution_count": 80,
   "metadata": {
    "id": "v3Kn4oXMjBB0"
   },
   "outputs": [],
   "source": [
    "# importing libraries for models and evaluations \n",
    "\n",
    "from sklearn.linear_model import Lasso, Ridge\n",
    "from sklearn.tree import DecisionTreeRegressor\n",
    "from sklearn.ensemble import RandomForestRegressor,  GradientBoostingRegressor\n",
    "\n",
    "from sklearn.decomposition import PCA\n",
    "\n",
    "from sklearn.model_selection import KFold, cross_val_score, train_test_split\n",
    "from sklearn.metrics import mean_squared_error\n"
   ]
  },
  {
   "cell_type": "code",
   "execution_count": 81,
   "metadata": {
    "id": "1CK1sJLDkVld"
   },
   "outputs": [],
   "source": [
    "# modifing scaling for the prediction range and values\n",
    "\n",
    "n_folds = 5\n",
    "def rmsle_cv(model):\n",
    "    kf = KFold(n_folds, shuffle=True, random_state=42).get_n_splits(train.values)\n",
    "    rmse= np.sqrt(-cross_val_score(model, train.values, y_train, scoring=\"neg_mean_squared_error\", cv = kf))\n",
    "    return(rmse)"
   ]
  },
  {
   "cell_type": "markdown",
   "metadata": {
    "id": "LHCBtmiiAXkP"
   },
   "source": [
    "## Linear Regression with L1 and L2\n"
   ]
  },
  {
   "cell_type": "markdown",
   "metadata": {
    "id": "5r1ULrs-KsQY"
   },
   "source": [
    "Simple Linear Regression with Lasso and Ridge regularization"
   ]
  },
  {
   "cell_type": "markdown",
   "metadata": {
    "id": "074eEXDPK1gK"
   },
   "source": [
    "### Lasso Regression "
   ]
  },
  {
   "cell_type": "code",
   "execution_count": 87,
   "metadata": {
    "id": "AHHWERXBklRi"
   },
   "outputs": [],
   "source": [
    "# tuning lasso model \n",
    "\n",
    "lasso = Lasso(alpha =0.0005, random_state=1)"
   ]
  },
  {
   "cell_type": "code",
   "execution_count": 88,
   "metadata": {
    "colab": {
     "base_uri": "https://localhost:8080/"
    },
    "id": "nazKNqqtAh0P",
    "outputId": "c1e21cd9-2796-46bd-b8de-39235de29f47"
   },
   "outputs": [
    {
     "name": "stderr",
     "output_type": "stream",
     "text": [
      "F:\\anaconda3\\lib\\site-packages\\sklearn\\linear_model\\_coordinate_descent.py:476: ConvergenceWarning: Objective did not converge. You might want to increase the number of iterations. Duality gap: 327628084976.0349, tolerance: 759214014.2531197\n",
      "  positive)\n",
      "F:\\anaconda3\\lib\\site-packages\\sklearn\\linear_model\\_coordinate_descent.py:476: ConvergenceWarning: Objective did not converge. You might want to increase the number of iterations. Duality gap: 290792682810.6266, tolerance: 728773513.025937\n",
      "  positive)\n",
      "F:\\anaconda3\\lib\\site-packages\\sklearn\\linear_model\\_coordinate_descent.py:476: ConvergenceWarning: Objective did not converge. You might want to increase the number of iterations. Duality gap: 267121822376.06006, tolerance: 699031751.5199751\n",
      "  positive)\n",
      "F:\\anaconda3\\lib\\site-packages\\sklearn\\linear_model\\_coordinate_descent.py:476: ConvergenceWarning: Objective did not converge. You might want to increase the number of iterations. Duality gap: 317419068154.13257, tolerance: 770619031.1834062\n",
      "  positive)\n",
      "F:\\anaconda3\\lib\\site-packages\\sklearn\\linear_model\\_coordinate_descent.py:476: ConvergenceWarning: Objective did not converge. You might want to increase the number of iterations. Duality gap: 295051822562.29114, tolerance: 724930391.3116124\n",
      "  positive)\n"
     ]
    },
    {
     "data": {
      "text/plain": [
       "43770.658888231905"
      ]
     },
     "execution_count": 88,
     "metadata": {},
     "output_type": "execute_result"
    }
   ],
   "source": [
    "# finding prediction score\n",
    "\n",
    "score = rmsle_cv(lasso)\n",
    "score.mean()"
   ]
  },
  {
   "cell_type": "markdown",
   "metadata": {
    "id": "gYXcW-FnK_LC"
   },
   "source": [
    "### Ridge Regression"
   ]
  },
  {
   "cell_type": "code",
   "execution_count": 89,
   "metadata": {
    "id": "iQ187EFqAPn3"
   },
   "outputs": [],
   "source": [
    "# tuning Ridge Model \n",
    "\n",
    "ridge = Ridge(alpha=0.6)"
   ]
  },
  {
   "cell_type": "code",
   "execution_count": 90,
   "metadata": {
    "colab": {
     "base_uri": "https://localhost:8080/"
    },
    "id": "1TtxSjXXAuCh",
    "outputId": "f19ba89b-7849-4874-d4e8-9d45c4fac100"
   },
   "outputs": [
    {
     "data": {
      "text/plain": [
       "33779.02293193526"
      ]
     },
     "execution_count": 90,
     "metadata": {},
     "output_type": "execute_result"
    }
   ],
   "source": [
    "# finding predictive score\n",
    "\n",
    "score = rmsle_cv(ridge)\n",
    "score.mean()"
   ]
  },
  {
   "cell_type": "markdown",
   "metadata": {
    "id": "FFYM1uS6I4vJ"
   },
   "source": [
    "## Decision Tree \n",
    "\n"
   ]
  },
  {
   "cell_type": "markdown",
   "metadata": {
    "id": "R5kgXquoLLSo"
   },
   "source": [
    "### Decision Tree with no bound or restriction "
   ]
  },
  {
   "cell_type": "code",
   "execution_count": 91,
   "metadata": {
    "id": "fq-lb59WkxAE"
   },
   "outputs": [],
   "source": [
    "# tuning Decision Tree model (no restriction)\n",
    "\n",
    "decisiontree_without_restriction = DecisionTreeRegressor(random_state=0)"
   ]
  },
  {
   "cell_type": "code",
   "execution_count": 92,
   "metadata": {
    "colab": {
     "base_uri": "https://localhost:8080/"
    },
    "id": "ztQH3CAHFZre",
    "outputId": "1b339472-fa3e-466e-b35e-64e11d11cb7b"
   },
   "outputs": [
    {
     "data": {
      "text/plain": [
       "41909.25098000234"
      ]
     },
     "execution_count": 92,
     "metadata": {},
     "output_type": "execute_result"
    }
   ],
   "source": [
    "# finding score for Decision Tree\n",
    "\n",
    "score = rmsle_cv(decisiontree_without_restriction)\n",
    "score.mean()"
   ]
  },
  {
   "cell_type": "markdown",
   "metadata": {
    "id": "FuGsgU08LYu2"
   },
   "source": [
    "### Decision Tree with maximun depth"
   ]
  },
  {
   "cell_type": "code",
   "execution_count": 93,
   "metadata": {
    "id": "8HUNk_x4lB8s"
   },
   "outputs": [],
   "source": [
    "# tuning Decision Tree model (max_depth)\n",
    "\n",
    "decisiontree_with_restriction = DecisionTreeRegressor(random_state=0,max_depth=4) "
   ]
  },
  {
   "cell_type": "code",
   "execution_count": 94,
   "metadata": {
    "colab": {
     "base_uri": "https://localhost:8080/"
    },
    "id": "oF2NWecgJLa7",
    "outputId": "492b9095-3d91-466f-a0c8-d0ea34fb5361"
   },
   "outputs": [
    {
     "data": {
      "text/plain": [
       "42701.98183721271"
      ]
     },
     "execution_count": 94,
     "metadata": {},
     "output_type": "execute_result"
    }
   ],
   "source": [
    "# finding score\n",
    "\n",
    "score = rmsle_cv(decisiontree_with_restriction)\n",
    "score.mean()"
   ]
  },
  {
   "cell_type": "markdown",
   "metadata": {
    "id": "nlVmDqviLf4j"
   },
   "source": [
    "## Random Forest"
   ]
  },
  {
   "cell_type": "markdown",
   "metadata": {},
   "source": [
    "**estimator_100**"
   ]
  },
  {
   "cell_type": "code",
   "execution_count": 96,
   "metadata": {
    "id": "FFEJRKXglcmC"
   },
   "outputs": [],
   "source": [
    "# tuning Random Forest model \n",
    "\n",
    "randomforest_estimator_100 = RandomForestRegressor(n_estimators=100)"
   ]
  },
  {
   "cell_type": "code",
   "execution_count": 97,
   "metadata": {
    "colab": {
     "base_uri": "https://localhost:8080/"
    },
    "id": "DZktnGwbJqB0",
    "outputId": "a6bf0091-f429-4545-cb6c-adf9edb41789"
   },
   "outputs": [
    {
     "data": {
      "text/plain": [
       "30257.176194089698"
      ]
     },
     "execution_count": 97,
     "metadata": {},
     "output_type": "execute_result"
    }
   ],
   "source": [
    "# finding predictive score\n",
    "\n",
    "score = rmsle_cv(randomforest_estimator_100)\n",
    "score.mean()"
   ]
  },
  {
   "cell_type": "markdown",
   "metadata": {},
   "source": [
    "**estimator_300**"
   ]
  },
  {
   "cell_type": "code",
   "execution_count": 98,
   "metadata": {
    "id": "DIHDhzlbJxug"
   },
   "outputs": [],
   "source": [
    "# tuning Random Forest model\n",
    "\n",
    "randomforest_estimator_300 = RandomForestRegressor(n_estimators=300)"
   ]
  },
  {
   "cell_type": "code",
   "execution_count": 99,
   "metadata": {
    "colab": {
     "base_uri": "https://localhost:8080/"
    },
    "id": "kJ_w2h26JzPm",
    "outputId": "2c28ad91-b36b-4727-8033-fb14a209d6f4"
   },
   "outputs": [
    {
     "data": {
      "text/plain": [
       "30129.970496494836"
      ]
     },
     "execution_count": 99,
     "metadata": {},
     "output_type": "execute_result"
    }
   ],
   "source": [
    "# finding predictive score\n",
    "\n",
    "score = rmsle_cv(randomforest_estimator_300)\n",
    "score.mean()"
   ]
  },
  {
   "cell_type": "markdown",
   "metadata": {},
   "source": [
    "**estimator_500**"
   ]
  },
  {
   "cell_type": "code",
   "execution_count": 100,
   "metadata": {
    "id": "z__hcYWNJ5Bj"
   },
   "outputs": [],
   "source": [
    "# tuning Random Forest model\n",
    "\n",
    "randomforest_estimator_500 = RandomForestRegressor(n_estimators=500)"
   ]
  },
  {
   "cell_type": "code",
   "execution_count": 101,
   "metadata": {
    "colab": {
     "base_uri": "https://localhost:8080/"
    },
    "id": "QYRxFQx_J7_S",
    "outputId": "d513f9c2-8ef2-49cb-b3bd-8ee82d44940e"
   },
   "outputs": [
    {
     "data": {
      "text/plain": [
       "30226.930103155562"
      ]
     },
     "execution_count": 101,
     "metadata": {},
     "output_type": "execute_result"
    }
   ],
   "source": [
    "# finding predictive score\n",
    "\n",
    "score = rmsle_cv(randomforest_estimator_500)\n",
    "score.mean()"
   ]
  },
  {
   "cell_type": "markdown",
   "metadata": {
    "id": "QiyoW6lnJpXW"
   },
   "source": [
    "\n"
   ]
  },
  {
   "cell_type": "markdown",
   "metadata": {
    "id": "S_pqBGEOLnNi"
   },
   "source": [
    "## Gradient Boosting"
   ]
  },
  {
   "cell_type": "code",
   "execution_count": 102,
   "metadata": {
    "id": "Kj0N4OImGy2v"
   },
   "outputs": [],
   "source": [
    "# tuning GB model\n",
    "\n",
    "GBoost = GradientBoostingRegressor(n_estimators=3000)"
   ]
  },
  {
   "cell_type": "code",
   "execution_count": 103,
   "metadata": {
    "colab": {
     "base_uri": "https://localhost:8080/"
    },
    "id": "YosvWYdyKeAS",
    "outputId": "25e1f226-2563-4df2-afda-9a7b89084c15"
   },
   "outputs": [
    {
     "data": {
      "text/plain": [
       "25378.489830172894"
      ]
     },
     "execution_count": 103,
     "metadata": {},
     "output_type": "execute_result"
    }
   ],
   "source": [
    "# fiding predictive score\n",
    "\n",
    "score = rmsle_cv(GBoost)\n",
    "score.mean()"
   ]
  },
  {
   "cell_type": "markdown",
   "metadata": {
    "id": "z0I8dw23Lq-H"
   },
   "source": [
    "**So, if we compare among the algorithms or models we applied on our data set, we can see different prediction values from the output function. There, Gradient Boosting model showed us the less 'Sales Price' for the house, So here GB is the best model according to my predicting actions from the given data set.** "
   ]
  },
  {
   "cell_type": "markdown",
   "metadata": {
    "id": "a_sf7IBvMLAa"
   },
   "source": []
  },
  {
   "cell_type": "markdown",
   "metadata": {
    "id": "Lz0V_4NfMiRp"
   },
   "source": [
    "### PCA and Decision Tree"
   ]
  },
  {
   "cell_type": "code",
   "execution_count": 104,
   "metadata": {
    "id": "shcCxNy1Mg_L"
   },
   "outputs": [],
   "source": [
    "# applying PCA \n",
    "\n",
    "pca = PCA(n_components=13)\n",
    "train_pca = pca.fit_transform(train)"
   ]
  },
  {
   "cell_type": "code",
   "execution_count": 107,
   "metadata": {
    "id": "kK2SzZwAMz9P"
   },
   "outputs": [],
   "source": [
    "# tuning Decision Tree \n",
    "\n",
    "decisiontree_pca = DecisionTreeRegressor(max_depth=4)"
   ]
  },
  {
   "cell_type": "code",
   "execution_count": 108,
   "metadata": {
    "colab": {
     "base_uri": "https://localhost:8080/"
    },
    "id": "yTdxb5SeM_q9",
    "outputId": "55d200f3-e3f8-466c-d64e-081b9eec8078"
   },
   "outputs": [
    {
     "data": {
      "text/plain": [
       "42569.7021759482"
      ]
     },
     "execution_count": 108,
     "metadata": {},
     "output_type": "execute_result"
    }
   ],
   "source": [
    "# finding predictive score after tuning Decision tree\n",
    "\n",
    "score = rmsle_cv(decisiontree_pca)\n",
    "score.mean()"
   ]
  },
  {
   "cell_type": "markdown",
   "metadata": {
    "id": "4i01hXyVNLb1"
   },
   "source": [
    "**Here, we can see that, between PCA and L2 regularization, L2 regularization performs better as it shows less selling price of house**."
   ]
  },
  {
   "cell_type": "markdown",
   "metadata": {},
   "source": [
    "#### Answering the given Question"
   ]
  },
  {
   "cell_type": "markdown",
   "metadata": {
    "id": "ChL57UU3OKRm"
   },
   "source": [
    "Question: What is ensemble learning? What is the difference between Bagging and Boosting?\n",
    "\n",
    "Answer: \n",
    "\n",
    "Ensemble Learning: Ensemble Learning is a combination of methods that combine several decision trees classifiers to produce better predictive performance than a single decision tree classifier. The main principle behind the ensemble model is that a group of weak learners come together to form a strong learner, thus increasing the accuracy of the model.When we try to predict the target variable using any machine learning technique, the main causes of difference in actual and predicted values are noise, variance, and bias.\n",
    "\n",
    "Bagging: Bagging is used when our objective is to reduce the variance of a decision tree. Here the concept is to create a few subsets of data from the training sample, which is chosen randomly with replacement. Now each collection of subset data is used to prepare their decision trees thus, we end up with an ensemble of various models. The average of all the assumptions from numerous tress is used, which is more powerful than a single decision tree.\n",
    "\n",
    "Boosting: Boosting is another ensemble procedure to make a collection of predictors. In other words, we fit consecutive trees, usually random samples, and at each step, the objective is to solve net error from the prior trees. If a given input is misclassified by theory, then its weight is increased so that the upcoming hypothesis is more likely to classify it correctly by consolidating the entire set at last converts weak learners into better performing models.\n",
    "\n",
    "\n",
    "Comparison between Bagging and Boosting:\n",
    "\n",
    "1. Bagging and Boosting both are ensemble methods to get N learners from 1 learner but, while they are built independently for Bagging, Boosting tries to add new models that do well where previous models fail.\n",
    "2. Both generate several training data sets by random sampling but only Boosting determines weights for the data to tip the scales in favor of the most difficult cases.\n",
    "3. Both make the final decision by averaging  the N learners (or taking the majority of them) but it is an equally weighted average for Bagging and a weighted average for Boosting, more weight to those with better performance on training data.\n",
    "4. Both are good at reducing variance and provide higher stability but only Boosting tries to reduce bias. On the other hand, Bagging may solve the over-fitting problem, while Boosting can increase it."
   ]
  },
  {
   "cell_type": "markdown",
   "metadata": {
    "id": "204V81LVOOmH"
   },
   "source": [
    "\n"
   ]
  },
  {
   "cell_type": "code",
   "execution_count": null,
   "metadata": {},
   "outputs": [],
   "source": []
  }
 ],
 "metadata": {
  "colab": {
   "collapsed_sections": [],
   "name": "Housing Price.ipynb",
   "provenance": []
  },
  "kernelspec": {
   "display_name": "Python 3",
   "language": "python",
   "name": "python3"
  },
  "language_info": {
   "codemirror_mode": {
    "name": "ipython",
    "version": 3
   },
   "file_extension": ".py",
   "mimetype": "text/x-python",
   "name": "python",
   "nbconvert_exporter": "python",
   "pygments_lexer": "ipython3",
   "version": "3.7.6"
  }
 },
 "nbformat": 4,
 "nbformat_minor": 1
}
